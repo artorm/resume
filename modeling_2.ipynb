{
 "cells": [
  {
   "cell_type": "code",
   "execution_count": 1,
   "metadata": {},
   "outputs": [],
   "source": [
    "import pandas as pd\n",
    "import numpy as np\n",
    "\n",
    "from sklearn.model_selection import cross_val_score, train_test_split\n",
    "from sklearn.metrics import f1_score, roc_auc_score, precision_score, classification_report, precision_recall_curve, confusion_matrix\n",
    "\n",
    "import lightgbm as lgb\n",
    "import xgboost as xgb\n",
    "\n",
    "import matplotlib.pyplot as plt\n",
    "from datetime import datetime\n",
    "\n",
    "%matplotlib inline"
   ]
  },
  {
   "cell_type": "code",
   "execution_count": 2,
   "metadata": {},
   "outputs": [],
   "source": [
    "colnames = [\n",
    "    \"TV_TYPE\",          # Тип тарелки                   (Input)\n",
    "    \"ls_num\",           # Номер лицевого счета          (ID)\n",
    "    \"MON_ACTIVATION\",   # Месяц подключения             (Constant)     \n",
    "    \"CUST_ID\",          # Номер клиента                 (ID)\n",
    "    \"ABONID\",           # Номер абонента                (ID)\n",
    "    \"smart_card_num\",   # Номер смарт-карты             (ID, Unique x18)\n",
    "    \"CHIP_ID\",          # Номер чипа                    (ID, almost unique x18)\n",
    "    \"PER\",              # Месяц наблюдения              (= PERIOD_, redundant)\n",
    "    \"_1M\",              # Отток на горизонте 1 месяц    (Target)\n",
    "    \"_3M\",              # Отток на горизонте 3 месяца   (Target)\n",
    "    \"_6M\",              # Отток на горизонте 6 месяца   (Target)\n",
    "    \"TOTAL\",            # Флаг расторжения контракта    (Target)\n",
    "    \"BASE_PACK\",        # Тарифный план текущий         (Input)\n",
    "    \"BASE_PACK_FIRST\",  # Тарифный план первый          (Input)\n",
    "    \"PERIOD_\",          # Месяц наблюдения              (Input)\n",
    "    \"CURRENT_TARPLANID\" # ID тарифного плана            (ID)\n",
    "]\n",
    "\n",
    "# Данные помесячного присоединения клиентов+"
   ]
  },
  {
   "cell_type": "code",
   "execution_count": 3,
   "metadata": {
    "scrolled": false
   },
   "outputs": [
    {
     "name": "stderr",
     "output_type": "stream",
     "text": [
      "D:\\Programs\\Anaconda3\\lib\\site-packages\\IPython\\core\\interactiveshell.py:3071: DtypeWarning: Columns (6) have mixed types.Specify dtype option on import or set low_memory=False.\n",
      "  has_raised = await self.run_ast_nodes(code_ast.body, cell_name,\n"
     ]
    }
   ],
   "source": [
    "df_stv = pd.read_csv(r\"./STV/....txt\", encoding=\"utf-8\", sep=\"\\t\")"
   ]
  },
  {
   "cell_type": "code",
   "execution_count": 4,
   "metadata": {
    "scrolled": true
   },
   "outputs": [
    {
     "data": {
      "text/html": [
       "<div>\n",
       "<style scoped>\n",
       "    .dataframe tbody tr th:only-of-type {\n",
       "        vertical-align: middle;\n",
       "    }\n",
       "\n",
       "    .dataframe tbody tr th {\n",
       "        vertical-align: top;\n",
       "    }\n",
       "\n",
       "    .dataframe thead th {\n",
       "        text-align: right;\n",
       "    }\n",
       "</style>\n",
       "<table border=\"1\" class=\"dataframe\">\n",
       "  <thead>\n",
       "    <tr style=\"text-align: right;\">\n",
       "      <th></th>\n",
       "      <th>TV_TYPE</th>\n",
       "      <th>ls_num</th>\n",
       "      <th>MON_ACTIVATION</th>\n",
       "      <th>CUST_ID</th>\n",
       "      <th>ABONID</th>\n",
       "      <th>smart_card_num</th>\n",
       "      <th>CHIP_ID</th>\n",
       "      <th>PER</th>\n",
       "      <th>_1M</th>\n",
       "      <th>_3M</th>\n",
       "      <th>_6M</th>\n",
       "      <th>TOTAL</th>\n",
       "      <th>BASE_PACK</th>\n",
       "      <th>BASE_PACK_FIRST</th>\n",
       "      <th>PERIOD_</th>\n",
       "      <th>CURRENT_TARPLANID</th>\n",
       "    </tr>\n",
       "  </thead>\n",
       "  <tbody>\n",
       "    <tr>\n",
       "      <th>0</th>\n",
       "      <td>ИТВ</td>\n",
       "      <td>8970101006118013776</td>\n",
       "      <td>12/1/2018</td>\n",
       "      <td>135388559</td>\n",
       "      <td>172269170</td>\n",
       "      <td>79175274868</td>\n",
       "      <td>7700041856</td>\n",
       "      <td>DEC19</td>\n",
       "      <td>0</td>\n",
       "      <td>1</td>\n",
       "      <td>1</td>\n",
       "      <td>1</td>\n",
       "      <td>СТВ. Пакет телеканалов: Базовый</td>\n",
       "      <td>СТВ. Пакет телеканалов: Базовый</td>\n",
       "      <td>12/1/2019</td>\n",
       "      <td>80938</td>\n",
       "    </tr>\n",
       "    <tr>\n",
       "      <th>1</th>\n",
       "      <td>ИТВ</td>\n",
       "      <td>8970101005037856640</td>\n",
       "      <td>12/1/2018</td>\n",
       "      <td>155083390</td>\n",
       "      <td>192939344</td>\n",
       "      <td>79153213516</td>\n",
       "      <td>7700013091</td>\n",
       "      <td>DEC18</td>\n",
       "      <td>1</td>\n",
       "      <td>1</td>\n",
       "      <td>1</td>\n",
       "      <td>1</td>\n",
       "      <td>СТВ. Пакет телеканалов: Базовый</td>\n",
       "      <td>СТВ. Пакет телеканалов: Базовый</td>\n",
       "      <td>12/1/2018</td>\n",
       "      <td>80938</td>\n",
       "    </tr>\n",
       "    <tr>\n",
       "      <th>2</th>\n",
       "      <td>ИТВ</td>\n",
       "      <td>8970101006118009198</td>\n",
       "      <td>12/1/2018</td>\n",
       "      <td>179929195</td>\n",
       "      <td>219811084</td>\n",
       "      <td>79169926437</td>\n",
       "      <td>NaN</td>\n",
       "      <td>APR19</td>\n",
       "      <td>0</td>\n",
       "      <td>0</td>\n",
       "      <td>1</td>\n",
       "      <td>1</td>\n",
       "      <td>СТВ. Пакет телеканалов: Базовый</td>\n",
       "      <td>СТВ. Пакет телеканалов: Базовый</td>\n",
       "      <td>4/1/2019</td>\n",
       "      <td>80938</td>\n",
       "    </tr>\n",
       "    <tr>\n",
       "      <th>3</th>\n",
       "      <td>ИТВ</td>\n",
       "      <td>8970101006118009723</td>\n",
       "      <td>12/1/2018</td>\n",
       "      <td>117572446</td>\n",
       "      <td>153852051</td>\n",
       "      <td>79169985926</td>\n",
       "      <td>7700023486</td>\n",
       "      <td>OCT19</td>\n",
       "      <td>0</td>\n",
       "      <td>0</td>\n",
       "      <td>0</td>\n",
       "      <td>0</td>\n",
       "      <td>СТВ. Пакет телеканалов: Базовый на год</td>\n",
       "      <td>СТВ. Пакет телеканалов: Базовый на год</td>\n",
       "      <td>10/1/2019</td>\n",
       "      <td>80959</td>\n",
       "    </tr>\n",
       "    <tr>\n",
       "      <th>4</th>\n",
       "      <td>ИТВ</td>\n",
       "      <td>8970101006118004253</td>\n",
       "      <td>12/1/2018</td>\n",
       "      <td>113290717</td>\n",
       "      <td>149390073</td>\n",
       "      <td>79169538499</td>\n",
       "      <td>7700021300</td>\n",
       "      <td>JAN19</td>\n",
       "      <td>1</td>\n",
       "      <td>1</td>\n",
       "      <td>1</td>\n",
       "      <td>1</td>\n",
       "      <td>СТВ. Пакет телеканалов: Базовый на год</td>\n",
       "      <td>СТВ. Пакет телеканалов: Базовый на год</td>\n",
       "      <td>1/1/2019</td>\n",
       "      <td>80959</td>\n",
       "    </tr>\n",
       "  </tbody>\n",
       "</table>\n",
       "</div>"
      ],
      "text/plain": [
       "  TV_TYPE               ls_num MON_ACTIVATION    CUST_ID     ABONID  \\\n",
       "0     ИТВ  8970101006118013776      12/1/2018  135388559  172269170   \n",
       "1     ИТВ  8970101005037856640      12/1/2018  155083390  192939344   \n",
       "2     ИТВ  8970101006118009198      12/1/2018  179929195  219811084   \n",
       "3     ИТВ  8970101006118009723      12/1/2018  117572446  153852051   \n",
       "4     ИТВ  8970101006118004253      12/1/2018  113290717  149390073   \n",
       "\n",
       "   smart_card_num     CHIP_ID    PER  _1M  _3M  _6M  TOTAL  \\\n",
       "0     79175274868  7700041856  DEC19    0    1    1      1   \n",
       "1     79153213516  7700013091  DEC18    1    1    1      1   \n",
       "2     79169926437         NaN  APR19    0    0    1      1   \n",
       "3     79169985926  7700023486  OCT19    0    0    0      0   \n",
       "4     79169538499  7700021300  JAN19    1    1    1      1   \n",
       "\n",
       "                                BASE_PACK  \\\n",
       "0         СТВ. Пакет телеканалов: Базовый   \n",
       "1         СТВ. Пакет телеканалов: Базовый   \n",
       "2         СТВ. Пакет телеканалов: Базовый   \n",
       "3  СТВ. Пакет телеканалов: Базовый на год   \n",
       "4  СТВ. Пакет телеканалов: Базовый на год   \n",
       "\n",
       "                          BASE_PACK_FIRST    PERIOD_ CURRENT_TARPLANID  \n",
       "0         СТВ. Пакет телеканалов: Базовый  12/1/2019             80938  \n",
       "1         СТВ. Пакет телеканалов: Базовый  12/1/2018             80938  \n",
       "2         СТВ. Пакет телеканалов: Базовый   4/1/2019             80938  \n",
       "3  СТВ. Пакет телеканалов: Базовый на год  10/1/2019             80959  \n",
       "4  СТВ. Пакет телеканалов: Базовый на год   1/1/2019             80959  "
      ]
     },
     "execution_count": 4,
     "metadata": {},
     "output_type": "execute_result"
    }
   ],
   "source": [
    "df_stv.head()"
   ]
  },
  {
   "cell_type": "code",
   "execution_count": 5,
   "metadata": {},
   "outputs": [],
   "source": [
    "from sklearn.preprocessing import OneHotEncoder\n",
    "\n",
    "def transform_sample(df, index=True, encoding=False, transformer=None):\n",
    "    select_cols = ['BASE_PACK', 'BASE_PACK_FIRST', 'day_space', '_1M', 'TV_TYPE'] \n",
    "    if index:\n",
    "        select_cols.append('smart_card_num')\n",
    "    \n",
    "    df = df.copy()\n",
    "    \n",
    "    BASE_PACK_NAN = 'Базовый на год (СТВ) (DVB-S) (МАСС) (082016)'\n",
    "    BASE_PACK_FIRST_NAN = 'Расширенный Плюс. Полгода за полцены (DVB-S) (МАСС)'\n",
    "\n",
    "    df['BASE_PACK'].replace({'?': BASE_PACK_NAN}, inplace=True)\n",
    "    df['BASE_PACK_FIRST'].replace({'?': BASE_PACK_FIRST_NAN}, inplace=True)\n",
    "\n",
    "    df['MON_ACTIVATION'] = df['MON_ACTIVATION'].apply(lambda x: datetime.strptime(x, \"%m/%d/%Y\"))\n",
    "    df['PERIOD_'] = df['PERIOD_'].apply(lambda x: datetime.strptime(x, \"%m/%d/%Y\"))\n",
    "    df['day_space'] = (df['PERIOD_'] - df['MON_ACTIVATION']).dt.days\n",
    "    \n",
    "    if encoding:\n",
    "        col = ['BASE_PACK', 'BASE_PACK_FIRST']\n",
    "        if transformer is None:\n",
    "            t = OneHotEncoder(sparse=False, handle_unknown='ignore')\n",
    "            values = t.fit_transform(df[col])\n",
    "        else:\n",
    "            t = transformer\n",
    "            values = t.transform(df[col])\n",
    "        new_cols = t.get_feature_names().tolist()\n",
    "            \n",
    "        tmp = pd.DataFrame(values, columns=new_cols)\n",
    "        df = pd.concat([df, tmp], axis=1).drop(col, axis=1)\n",
    "        \n",
    "        for c in col:\n",
    "            select_cols.remove(c)\n",
    "        select_cols.extend(new_cols)\n",
    "        \n",
    "        return df[select_cols], t\n",
    "        \n",
    "    else:\n",
    "        for col in ['TV_TYPE', 'BASE_PACK', 'BASE_PACK_FIRST']:\n",
    "            df[col] = df[col].astype('category')\n",
    "        return df[select_cols]\n",
    "\n",
    "\n",
    "#     CHIP_ID_NAN = 0\n",
    "#     df[\"CHIP_ID\"].replace({'?': CHIP_ID_NAN}, inplace=True)\n",
    "#     df[\"CHIP_ID\"].fillna(CHIP_ID_NAN, inplace=True)"
   ]
  },
  {
   "cell_type": "code",
   "execution_count": 6,
   "metadata": {},
   "outputs": [
    {
     "data": {
      "text/html": [
       "<div>\n",
       "<style scoped>\n",
       "    .dataframe tbody tr th:only-of-type {\n",
       "        vertical-align: middle;\n",
       "    }\n",
       "\n",
       "    .dataframe tbody tr th {\n",
       "        vertical-align: top;\n",
       "    }\n",
       "\n",
       "    .dataframe thead th {\n",
       "        text-align: right;\n",
       "    }\n",
       "</style>\n",
       "<table border=\"1\" class=\"dataframe\">\n",
       "  <thead>\n",
       "    <tr style=\"text-align: right;\">\n",
       "      <th></th>\n",
       "      <th>BASE_PACK</th>\n",
       "      <th>BASE_PACK_FIRST</th>\n",
       "      <th>day_space</th>\n",
       "      <th>_1M</th>\n",
       "      <th>TV_TYPE</th>\n",
       "      <th>smart_card_num</th>\n",
       "    </tr>\n",
       "  </thead>\n",
       "  <tbody>\n",
       "    <tr>\n",
       "      <th>0</th>\n",
       "      <td>СТВ. Пакет телеканалов: Базовый</td>\n",
       "      <td>СТВ. Пакет телеканалов: Базовый</td>\n",
       "      <td>365</td>\n",
       "      <td>0</td>\n",
       "      <td>ИТВ</td>\n",
       "      <td>79175274868</td>\n",
       "    </tr>\n",
       "    <tr>\n",
       "      <th>1</th>\n",
       "      <td>СТВ. Пакет телеканалов: Базовый</td>\n",
       "      <td>СТВ. Пакет телеканалов: Базовый</td>\n",
       "      <td>0</td>\n",
       "      <td>1</td>\n",
       "      <td>ИТВ</td>\n",
       "      <td>79153213516</td>\n",
       "    </tr>\n",
       "    <tr>\n",
       "      <th>2</th>\n",
       "      <td>СТВ. Пакет телеканалов: Базовый</td>\n",
       "      <td>СТВ. Пакет телеканалов: Базовый</td>\n",
       "      <td>121</td>\n",
       "      <td>0</td>\n",
       "      <td>ИТВ</td>\n",
       "      <td>79169926437</td>\n",
       "    </tr>\n",
       "    <tr>\n",
       "      <th>3</th>\n",
       "      <td>СТВ. Пакет телеканалов: Базовый на год</td>\n",
       "      <td>СТВ. Пакет телеканалов: Базовый на год</td>\n",
       "      <td>304</td>\n",
       "      <td>0</td>\n",
       "      <td>ИТВ</td>\n",
       "      <td>79169985926</td>\n",
       "    </tr>\n",
       "    <tr>\n",
       "      <th>4</th>\n",
       "      <td>СТВ. Пакет телеканалов: Базовый на год</td>\n",
       "      <td>СТВ. Пакет телеканалов: Базовый на год</td>\n",
       "      <td>31</td>\n",
       "      <td>1</td>\n",
       "      <td>ИТВ</td>\n",
       "      <td>79169538499</td>\n",
       "    </tr>\n",
       "  </tbody>\n",
       "</table>\n",
       "</div>"
      ],
      "text/plain": [
       "                                BASE_PACK  \\\n",
       "0         СТВ. Пакет телеканалов: Базовый   \n",
       "1         СТВ. Пакет телеканалов: Базовый   \n",
       "2         СТВ. Пакет телеканалов: Базовый   \n",
       "3  СТВ. Пакет телеканалов: Базовый на год   \n",
       "4  СТВ. Пакет телеканалов: Базовый на год   \n",
       "\n",
       "                          BASE_PACK_FIRST  day_space  _1M TV_TYPE  \\\n",
       "0         СТВ. Пакет телеканалов: Базовый        365    0     ИТВ   \n",
       "1         СТВ. Пакет телеканалов: Базовый          0    1     ИТВ   \n",
       "2         СТВ. Пакет телеканалов: Базовый        121    0     ИТВ   \n",
       "3  СТВ. Пакет телеканалов: Базовый на год        304    0     ИТВ   \n",
       "4  СТВ. Пакет телеканалов: Базовый на год         31    1     ИТВ   \n",
       "\n",
       "   smart_card_num  \n",
       "0     79175274868  \n",
       "1     79153213516  \n",
       "2     79169926437  \n",
       "3     79169985926  \n",
       "4     79169538499  "
      ]
     },
     "execution_count": 6,
     "metadata": {},
     "output_type": "execute_result"
    }
   ],
   "source": [
    "data = transform_sample(df_stv, index=True)\n",
    "data.head()"
   ]
  },
  {
   "cell_type": "code",
   "execution_count": 7,
   "metadata": {},
   "outputs": [],
   "source": [
    "def split_by_index(df, index='smart_card_num', target='_1M', test_size=0.30, random_state=0):\n",
    "    ids = df[index].unique()\n",
    "    ids_train, ids_test = train_test_split(ids, test_size=test_size, random_state=random_state)\n",
    "\n",
    "    train = df[df[index].isin(ids_train)]\n",
    "    test = df[df[index].isin(ids_test)]\n",
    "\n",
    "    X_train = train.drop([index, target], axis=1)\n",
    "    X_test = test.drop([index, target], axis=1)\n",
    "\n",
    "    y_train = train[target]\n",
    "    y_test = test[target]\n",
    "    \n",
    "    return X_train, X_test, y_train, y_test"
   ]
  },
  {
   "cell_type": "code",
   "execution_count": 8,
   "metadata": {},
   "outputs": [],
   "source": [
    "X_train, X_test, y_train, y_test = split_by_index(data)\n",
    "# X_train, X_test, y_train, y_test = train_test_split(data.drop(['_1M', 'smart_card_num'], 1), data['_1M'], test_size=0.30, random_state=0)"
   ]
  },
  {
   "cell_type": "code",
   "execution_count": 10,
   "metadata": {
    "scrolled": true
   },
   "outputs": [
    {
     "name": "stdout",
     "output_type": "stream",
     "text": [
      "Wall time: 1.15 s\n"
     ]
    },
    {
     "data": {
      "text/plain": [
       "LGBMClassifier(n_jobs=8, random_state=0)"
      ]
     },
     "execution_count": 10,
     "metadata": {},
     "output_type": "execute_result"
    }
   ],
   "source": [
    "%%time\n",
    "model = lgb.LGBMClassifier(n_jobs=8, random_state=0)\n",
    "model.fit(X_train, y_train)"
   ]
  },
  {
   "cell_type": "code",
   "execution_count": 11,
   "metadata": {},
   "outputs": [
    {
     "data": {
      "text/plain": [
       "0.7072749048803264"
      ]
     },
     "execution_count": 11,
     "metadata": {},
     "output_type": "execute_result"
    }
   ],
   "source": [
    "y_test_pred = model.predict_proba(X_test)[:, 1]\n",
    "roc_auc = roc_auc_score(y_test, y_test_pred)\n",
    "roc_auc"
   ]
  },
  {
   "cell_type": "code",
   "execution_count": 12,
   "metadata": {
    "scrolled": true
   },
   "outputs": [
    {
     "name": "stderr",
     "output_type": "stream",
     "text": [
      "D:\\Programs\\Anaconda3\\lib\\site-packages\\IPython\\core\\interactiveshell.py:3071: DtypeWarning: Columns (3,6) have mixed types.Specify dtype option on import or set low_memory=False.\n",
      "  has_raised = await self.run_ast_nodes(code_ast.body, cell_name,\n"
     ]
    }
   ],
   "source": [
    "df_oot = pd.read_csv(r\"./STV/STV_base_2019_01.txt\", encoding=\"utf-8\", sep=\"\\t\")\n",
    "df_oot = transform_sample(df_oot, index=False)"
   ]
  },
  {
   "cell_type": "code",
   "execution_count": 13,
   "metadata": {},
   "outputs": [
    {
     "data": {
      "text/plain": [
       "0.7115116968696127"
      ]
     },
     "execution_count": 13,
     "metadata": {},
     "output_type": "execute_result"
    }
   ],
   "source": [
    "X_oot = df_oot.drop('_1M', axis=1)\n",
    "y_oot = df_oot['_1M']\n",
    "\n",
    "y_oot_pred = model.predict_proba(X_oot)[:, 1]\n",
    "roc_auc = roc_auc_score(y_oot, y_oot_pred)\n",
    "roc_auc"
   ]
  },
  {
   "cell_type": "code",
   "execution_count": 14,
   "metadata": {},
   "outputs": [
    {
     "data": {
      "text/plain": [
       "'\\nTV_TYPE - незначимый признак\\n'"
      ]
     },
     "execution_count": 14,
     "metadata": {},
     "output_type": "execute_result"
    }
   ],
   "source": [
    "\"\"\"\n",
    "TV_TYPE - незначимый признак\n",
    "\"\"\""
   ]
  },
  {
   "cell_type": "code",
   "execution_count": 16,
   "metadata": {
    "scrolled": true
   },
   "outputs": [
    {
     "name": "stderr",
     "output_type": "stream",
     "text": [
      "D:\\Programs\\Anaconda3\\lib\\site-packages\\IPython\\core\\interactiveshell.py:3071: DtypeWarning: Columns (6) have mixed types.Specify dtype option on import or set low_memory=False.\n",
      "  has_raised = await self.run_ast_nodes(code_ast.body, cell_name,\n"
     ]
    }
   ],
   "source": [
    "# Загрузим данные\n",
    "df = pd.read_csv(r\"./STV/....txt\", encoding=\"utf-8\", sep=\"\\t\")"
   ]
  },
  {
   "cell_type": "code",
   "execution_count": 17,
   "metadata": {},
   "outputs": [],
   "source": [
    "# Обработаем так же, как делали раньше\n",
    "BASE_PACK_NAN = 'Базовый на год (СТВ) (DVB-S) (МАСС) (082016)'\n",
    "BASE_PACK_FIRST_NAN = 'Расширенный Плюс. Полгода за полцены (DVB-S) (МАСС)'\n",
    "\n",
    "df['BASE_PACK'].replace({'?': BASE_PACK_NAN}, inplace=True)\n",
    "df['BASE_PACK_FIRST'].replace({'?': BASE_PACK_FIRST_NAN}, inplace=True)\n",
    "\n",
    "df['MON_ACTIVATION'] = df['MON_ACTIVATION'].apply(lambda x: datetime.strptime(x, \"%m/%d/%Y\"))\n",
    "df['PERIOD_'] = df['PERIOD_'].apply(lambda x: datetime.strptime(x, \"%m/%d/%Y\"))\n",
    "df['day_space'] = (df['PERIOD_'] - df['MON_ACTIVATION']).dt.days"
   ]
  },
  {
   "cell_type": "code",
   "execution_count": 18,
   "metadata": {},
   "outputs": [],
   "source": [
    "# Важно! Преобразовываем категориальные поля в тип \"category\".\n",
    "# По сути, это и есть все отличие от других алгоритмов\n",
    "# После преобразования в данный тип можно подавать данные в модель\n",
    "for col in ['TV_TYPE', 'BASE_PACK', 'BASE_PACK_FIRST']:\n",
    "    df[col] = df[col].astype('category')"
   ]
  },
  {
   "cell_type": "code",
   "execution_count": 19,
   "metadata": {},
   "outputs": [],
   "source": [
    "# Оставим только необходимые поля\n",
    "df_filt = df[['TV_TYPE', 'BASE_PACK', 'BASE_PACK_FIRST', 'day_space', '_1M', 'smart_card_num']]"
   ]
  },
  {
   "cell_type": "code",
   "execution_count": 20,
   "metadata": {},
   "outputs": [],
   "source": [
    "# split_by_index - это самописная функция, разделяющая датафрейм по индексу 'smart_card_num', её определение находится выше\n",
    "X_train, X_test, y_train, y_test = split_by_index(df_filt)"
   ]
  },
  {
   "cell_type": "code",
   "execution_count": 21,
   "metadata": {},
   "outputs": [
    {
     "data": {
      "text/plain": [
       "LGBMClassifier(n_jobs=4)"
      ]
     },
     "execution_count": 21,
     "metadata": {},
     "output_type": "execute_result"
    }
   ],
   "source": [
    "# Объявляем и обучаем модель\n",
    "# Параметр n_jobs отвечает за распараллеливание вычислений на несколько ядер процессора\n",
    "model = lgb.LGBMClassifier(n_jobs=4)\n",
    "model.fit(X_train, y_train)"
   ]
  },
  {
   "cell_type": "code",
   "execution_count": 22,
   "metadata": {},
   "outputs": [
    {
     "data": {
      "text/plain": [
       "0.7071495615007266"
      ]
     },
     "execution_count": 22,
     "metadata": {},
     "output_type": "execute_result"
    }
   ],
   "source": [
    "y_test_pred = model.predict_proba(X_test)[:, 1]\n",
    "roc_auc_score(y_test, y_test_pred)"
   ]
  },
  {
   "cell_type": "code",
   "execution_count": null,
   "metadata": {},
   "outputs": [],
   "source": [
    "\"\"\"\n",
    "Довольно часто в используют не ROC AUC для качества модели, а метрику Gini.\n",
    "Она вычисляется почти также, только это отношение верхнего треугольника roc-кривой к идеальному\n",
    "(объяснение сложное, можно забить и просто посмотреть на формулу)\n",
    "\n",
    "Gini = 2*roc_auc - 1.\n",
    "Смысл в том, что это тот же \"рок аук\", только измеряется Gini в интервале [0; 1], а не [0.5; 1], \n",
    "   и позволяет выражать метрику качества в процентах.\n",
    "\n",
    "Для нашей текущей модели roc_auc = 0.7, значит gini = 2*roc_auc - 1 = 0.4 = 40%.\n",
    "Её удобнее интерпретировать - нулевой gini значит, что модель рандомная, а 100% - что модель идеально ранжирует.\n",
    "\n",
    "Тем не менее, надо понимать, что Gini = 40% не означает, что точность попадания модели 40%, \n",
    "   это просто некоторая мера ранжирования модели.\n",
    "\"\"\""
   ]
  },
  {
   "cell_type": "code",
   "execution_count": 25,
   "metadata": {},
   "outputs": [],
   "source": [
    "def gini(y_true, y_pred):\n",
    "    return 2*roc_auc_score(y_true, y_pred) - 1"
   ]
  },
  {
   "cell_type": "code",
   "execution_count": 26,
   "metadata": {},
   "outputs": [
    {
     "data": {
      "text/plain": [
       "0.4142991230014532"
      ]
     },
     "execution_count": 26,
     "metadata": {},
     "output_type": "execute_result"
    }
   ],
   "source": [
    "gini(y_test, y_test_pred)"
   ]
  },
  {
   "cell_type": "code",
   "execution_count": null,
   "metadata": {},
   "outputs": [],
   "source": []
  }
 ],
 "metadata": {
  "kernelspec": {
   "display_name": "Python 3",
   "language": "python",
   "name": "python3"
  },
  "language_info": {
   "codemirror_mode": {
    "name": "ipython",
    "version": 3
   },
   "file_extension": ".py",
   "mimetype": "text/x-python",
   "name": "python",
   "nbconvert_exporter": "python",
   "pygments_lexer": "ipython3",
   "version": "3.8.3"
  }
 },
 "nbformat": 4,
 "nbformat_minor": 2
}
